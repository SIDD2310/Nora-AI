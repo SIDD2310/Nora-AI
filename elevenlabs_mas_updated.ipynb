{
    "cells": [
        {
            "cell_type": "code",
            "metadata": {},
            "source": [
                "import requests\n",
                "import os\n",
                "from dotenv import load_dotenv\n",
                "\n",
                "# Load environment variables\n",
                "load_dotenv()\n",
                "\n",
                "ELEVENLABS_API_KEY = os.getenv(\"ELEVENLABS_API_KEY\")\n",
                "\n",
                "# API Base URLs\n",
                "BASE_URL = \"https://api.elevenlabs.io/v1/convai/conversations\"\n",
                "GET_CONVERSATION_URL = BASE_URL + \"/{conversation_id}\"\n",
                "\n",
                "# Headers\n",
                "HEADERS = {\n",
                "    \"xi-api-key\": ELEVENLABS_API_KEY,\n",
                "    \"Content-Type\": \"application/json\"\n",
                "}\n",
                "\n",
                "# Ensure API Key is available\n",
                "if not ELEVENLABS_API_KEY:\n",
                "    raise ValueError(\"\u274c ELEVENLABS_API_KEY is missing! Please check your .env file.\")\n"
            ]
        },
        {
            "cell_type": "code",
            "metadata": {},
            "source": [
                "# Create a new conversation (if needed)\n",
                "def create_new_conversation():\n",
                "    response = requests.post(BASE_URL, headers=HEADERS, json={})\n",
                "    if response.status_code == 200:\n",
                "        data = response.json()\n",
                "        conversation_id = data.get(\"conversation_id\")\n",
                "        print(\"\u2705 New conversation created!\")\n",
                "        print(\"Conversation ID:\", conversation_id)\n",
                "        return conversation_id\n",
                "    else:\n",
                "        print(\"\u274c Error creating conversation:\", response.status_code, response.text)\n",
                "        return None\n",
                "\n",
                "# Get a new conversation ID\n",
                "CONVERSATION_ID = create_new_conversation()\n"
            ]
        },
        {
            "cell_type": "code",
            "metadata": {},
            "source": [
                "# Fetch conversation details\n",
                "def get_conversation_details(conversation_id):\n",
                "    if not conversation_id:\n",
                "        print(\"\u274c No valid conversation ID available.\")\n",
                "        return\n",
                "\n",
                "    url = GET_CONVERSATION_URL.format(conversation_id=conversation_id)\n",
                "    response = requests.get(url, headers=HEADERS)\n",
                "\n",
                "    if response.status_code == 200:\n",
                "        print(\"\u2705 Conversation details retrieved:\")\n",
                "        print(response.json())\n",
                "    else:\n",
                "        print(\"\u274c Error fetching conversation:\", response.status_code, response.text)\n",
                "\n",
                "# Fetch details for the current conversation\n",
                "get_conversation_details(CONVERSATION_ID)\n"
            ]
        }
    ],
    "metadata": {
        "kernelspec": {
            "display_name": "Python 3",
            "language": "python",
            "name": "python3"
        },
        "language_info": {
            "codemirror_mode": {
                "name": "ipython",
                "version": 3
            },
            "file_extension": ".py",
            "mimetype": "text/x-python",
            "name": "python",
            "nbconvert_exporter": "python",
            "pygments_lexer": "ipython3",
            "version": "3.8.10"
        }
    },
    "nbformat": 4,
    "nbformat_minor": 5
}