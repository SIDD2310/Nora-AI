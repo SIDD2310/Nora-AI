{
 "cells": [
  {
   "cell_type": "code",
   "execution_count": 1,
   "id": "config-cell",
   "metadata": {},
   "outputs": [
    {
     "name": "stderr",
     "output_type": "stream",
     "text": [
      "/Users/pauline/Desktop/github_repos/Elsa-the-explorer/mas/lib/python3.9/site-packages/urllib3/__init__.py:35: NotOpenSSLWarning: urllib3 v2 only supports OpenSSL 1.1.1+, currently the 'ssl' module is compiled with 'LibreSSL 2.8.3'. See: https://github.com/urllib3/urllib3/issues/3020\n",
      "  warnings.warn(\n"
     ]
    }
   ],
   "source": [
    "import requests\n",
    "import json\n",
    "import os\n",
    "import time\n",
    "from dotenv import load_dotenv\n",
    "from IPython.display import display, Markdown\n",
    "\n",
    "# -----------------------------\n",
    "# CONFIGURATION\n",
    "# -----------------------------\n",
    "load_dotenv()\n",
    "\n",
    "ELEVENLABS_API_KEY = os.getenv(\"ELEVENLABS_API_KEY\")\n",
    "CONVERSATION_ID = os.getenv(\"CONVERSATION_ID\")  # If not set, we will create a new one\n",
    "\n",
    "# Replace these with your actual agent IDs from the ElevenLabs Conversational AI UI:\n",
    "AGENT_IDS = {\n",
    "    \"Nora\": os.getenv(\"AGENT_ID_NORA\"),\n",
    "    \"Sparkles\": os.getenv(\"AGENT_ID_SPARKLES\"),\n",
    "    \"Aliens\": os.getenv(\"AGENT_ID_ALIENS\")\n",
    "}\n",
    "\n",
    "# Base URL for sending messages\n",
    "BASE_URL = \"https://api.elevenlabs.io/v1/conversation/message\"\n",
    "START_CONVERSATION_URL = \"https://api.elevenlabs.io/v1/conversation/start\"\n",
    "\n",
    "HEADERS = {\n",
    "    \"Authorization\": f\"Bearer {ELEVENLABS_API_KEY}\",\n",
    "    \"Content-Type\": \"application/json\"\n",
    "}"
   ]
  },
  {
   "cell_type": "code",
   "execution_count": null,
   "id": "create-conversation",
   "metadata": {},
   "outputs": [],
   "source": [
    "# -----------------------------\n",
    "# CREATE A NEW CONVERSATION IF NEEDED\n",
    "# -----------------------------\n",
    "if not CONVERSATION_ID or CONVERSATION_ID == \"your_unique_conversation_id\":\n",
    "    print(\"🔄 No conversation ID found. Creating a new conversation...\")\n",
    "    payload = {\"agents\": list(AGENT_IDS.values())}  # Include all agents in the conversation\n",
    "    response = requests.post(START_CONVERSATION_URL, headers=HEADERS, data=json.dumps(payload))\n",
    "    \n",
    "    if response.status_code == 200:\n",
    "        data = response.json()\n",
    "        CONVERSATION_ID = data.get(\"conversation_id\")\n",
    "        print(\"✅ New conversation started!\")\n",
    "        print(\"Conversation ID:\", CONVERSATION_ID)\n",
    "    else:\n",
    "        print(\"❌ Error creating conversation:\", response.status_code, response.text)\n",
    "else:\n",
    "    print(\"✅ Using existing conversation ID:\", CONVERSATION_ID)"
   ]
  },
  {
   "cell_type": "code",
   "execution_count": null,
   "id": "helper-functions",
   "metadata": {},
   "outputs": [],
   "source": [
    "# -----------------------------\n",
    "# HELPER FUNCTIONS\n",
    "# -----------------------------\n",
    "def send_message_to_agent(agent_key, message_text):\n",
    "    \"\"\"\n",
    "    Sends a message to a specific agent and returns the agent's reply.\n",
    "    \"\"\"\n",
    "    payload = {\n",
    "        \"conversation_id\": CONVERSATION_ID,\n",
    "        \"agent_id\": AGENT_IDS[agent_key],\n",
    "        \"message\": message_text\n",
    "    }\n",
    "    response = requests.post(BASE_URL, headers=HEADERS, data=json.dumps(payload))\n",
    "    if response.status_code == 200:\n",
    "        data = response.json()\n",
    "        return data.get(\"response\", \"\")\n",
    "    else:\n",
    "        print(f\"Error sending message to {agent_key}: {response.status_code}\")\n",
    "        return \"\""
   ]
  },
  {
   "cell_type": "code",
   "execution_count": null,
   "id": "display-response",
   "metadata": {},
   "outputs": [],
   "source": [
    "def display_agent_response(agent_name, text):\n",
    "    \"\"\"\n",
    "    Displays the agent's response using Markdown for better visibility.\n",
    "    \"\"\"\n",
    "    display(Markdown(f\"**{agent_name}:** {text}\"))"
   ]
  },
  {
   "cell_type": "code",
   "execution_count": null,
   "id": "conversation-loop",
   "metadata": {},
   "outputs": [],
   "source": [
    "# -----------------------------\n",
    "# MAIN CONVERSATION LOOP\n",
    "# -----------------------------\n",
    "def conversation_loop():\n",
    "    \"\"\"\n",
    "    Interactive conversation loop with AI agents.\n",
    "    \"\"\"\n",
    "    initial_message = \"Hello, little astronaut! Are you ready for an out-of-this-world adventure?\"\n",
    "    display_agent_response(\"Nora\", initial_message)\n",
    "\n",
    "    while True:\n",
    "        child_input = input(\"Child: \").strip()\n",
    "        if not child_input:\n",
    "            print(\"Please say something!\")\n",
    "            continue\n",
    "\n",
    "        # Nora's response\n",
    "        nora_reply = send_message_to_agent(\"Nora\", child_input)\n",
    "        display_agent_response(\"Nora\", nora_reply)\n",
    "        time.sleep(1)\n",
    "\n",
    "        # Sparkles' response\n",
    "        sparkles_reply = send_message_to_agent(\"Sparkles\", child_input)\n",
    "        display_agent_response(\"Sparkles\", sparkles_reply)\n",
    "        time.sleep(1)\n",
    "\n",
    "        # Helper Aliens' response\n",
    "        aliens_reply = send_message_to_agent(\"Aliens\", child_input)\n",
    "        display_agent_response(\"Aliens\", aliens_reply)\n",
    "        time.sleep(1)\n",
    "\n",
    "        cont = input(\"Continue conversation? (yes/no): \").strip().lower()\n",
    "        if cont not in [\"yes\", \"y\"]:\n",
    "            print(\"Goodbye for now! See you on our next adventure!\")\n",
    "            break"
   ]
  },
  {
   "cell_type": "code",
   "execution_count": null,
   "id": "run-conversation",
   "metadata": {},
   "outputs": [],
   "source": [
    "# Start the interactive conversation\n",
    "conversation_loop()"
   ]
  }
 ],
 "metadata": {
  "kernelspec": {
   "display_name": "Python 3 (ipykernel)",
   "language": "python",
   "name": "python3"
  },
  "language_info": {
   "codemirror_mode": {
    "name": "ipython",
    "version": 3
   },
   "file_extension": ".py",
   "mimetype": "text/x-python",
   "name": "python",
   "nbconvert_exporter": "python",
   "pygments_lexer": "ipython3",
   "version": "3.9.6"
  }
 },
 "nbformat": 4,
 "nbformat_minor": 5
}
