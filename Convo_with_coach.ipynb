{
 "cells": [
  {
   "cell_type": "code",
   "execution_count": 2,
   "id": "317f17d9-6447-46e5-b7d8-766cdbc82ef1",
   "metadata": {},
   "outputs": [
    {
     "data": {
      "text/plain": [
       "GetAgentResponseModel(agent_id='kxMlrdYidldtEbnZyFAP', name='Nora in Space', conversation_config=ConversationalConfig(agent=AgentConfig(prompt=PromptAgent(prompt='You are Dora the Explorer in a playful outer-space setting. Your job is to guide the child through their interstellar quest. If the child doesn’t know what their quest is, remind them that it’s to collect star crystals from each planet across our solar system and bring them back to our rocket. Keep your responses between 3 and 7 sentences. Use simple, friendly language suitable for a young audience.', llm='gemini-2.0-flash-001', temperature=0.5, max_tokens=-1, tools=[PromptAgentToolsItem_System(type='system', name='end_call', description='')], tool_ids=['fGgS5mykUzDUOqSwBOnb'], knowledge_base=[], knowledge_base_document_ids=[], custom_llm=None), first_message='Hello, little astronaut! Are you ready to blast off on our cosmic adventure?', language='en', dynamic_variables=DynamicVariablesConfig(dynamic_variable_placeholders={})), asr=AsrConversationalConfig(quality='high', provider='elevenlabs', user_input_audio_format='pcm_16000', keywords=[]), turn=TurnConfig(turn_timeout=7.0, mode='turn'), tts=TtsConversationalConfig(model_id='eleven_flash_v2', voice_id='rCmVtv8cYU60uhlsOo1M', agent_output_audio_format='pcm_16000', optimize_streaming_latency=3, stability=0.5, similarity_boost=0.8, pronunciation_dictionary_locators=[]), conversation=ConversationConfig(max_duration_seconds=300, client_events=['audio', 'interruption', 'user_transcript', 'agent_response', 'agent_response_correction']), language_presets={'zh': LanguagePreset(overrides=ConversationConfigClientOverride(agent=AgentConfigOverride(prompt=None, first_message='旅行者您好。我如何能在您的旅程中为您提供帮助？', language=None), tts=None), first_message_translation=LanguagePresetTranslation(source_hash='{\"firstMessage\":\"Greetings traveler. How can I assist you on your quest?\",\"language\":\"en\"}', text='旅行者您好。我如何能在您的旅程中为您提供帮助？'))}), metadata=AgentMetadataResponseModel(created_at_unix_secs=1740192182), platform_settings=AgentPlatformSettings(auth=AuthSettings(enable_auth=False, allowlist=[], shareable_token=None), evaluation=EvaluationSettings(criteria=[]), widget=WidgetConfig(variant='full', avatar=WidgetConfigAvatar_Orb(type='orb', color_1='#CBA252', color_2='#FFE769'), feedback_mode='during', bg_color='#ffffff', text_color='#000000', btn_color='#000000', btn_text_color='#ffffff', border_color='#e1e1e1', focus_color='#000000', border_radius=None, btn_radius=None, action_text=None, start_call_text=None, end_call_text=None, expand_text=None, listening_text=None, speaking_text=None, shareable_page_text=None, terms_text='#### Terms and conditions\\n\\nBy clicking \"Agree,\" and each time I interact with this AI agent, I consent to the recording, storage, and sharing of my communications with third-party service providers, and as described in the Privacy Policy.\\nIf you do not wish to have your conversations recorded, please refrain from using this service.', terms_html='<h4>Terms and conditions</h4>\\n<p>By clicking &quot;Agree,&quot; and each time I interact with this AI agent, I consent to the recording, storage, and sharing of my communications with third-party service providers, and as described in the Privacy Policy.\\nIf you do not wish to have your conversations recorded, please refrain from using this service.</p>\\n', terms_key=None, language_selector=False, custom_avatar_path=None, expandable='never', show_avatar_when_collapsed=True, disable_banner=False), data_collection={}, overrides=ConversationInitiationClientDataConfig(conversation_config_override=ConversationConfigClientOverrideConfig(agent=AgentConfigOverrideConfig(prompt=PromptAgentOverrideConfig(prompt=False), first_message=False, language=True), tts=TtsConversationalConfigOverrideConfig(voice_id=False)), custom_llm_extra_body=False, enable_conversation_initiation_client_data_from_webhook=False), call_limits=AgentCallLimits(agent_concurrency_limit=-1, daily_limit=100000), ban=None, safety=Safety(ivc=None, non_ivc=None, is_blocked_ivc=False, is_blocked_non_ivc=False), privacy=PrivacyConfig(record_voice=True, retention_days=730, delete_transcript_and_pii=True, delete_audio=True, apply_to_existing_conversations=False)), secrets=[], phone_numbers=[])"
      ]
     },
     "execution_count": 2,
     "metadata": {},
     "output_type": "execute_result"
    }
   ],
   "source": [
    "#Get agent\n",
    "from elevenlabs import ElevenLabs\n",
    "\n",
    "client = ElevenLabs(\n",
    "    api_key=\"\",\n",
    ")\n",
    "client.conversational_ai.get_agent(\n",
    "    agent_id=\"kxMlrdYidldtEbnZyFAP\",\n",
    ")\n"
   ]
  },
  {
   "cell_type": "code",
   "execution_count": 9,
   "id": "b9253d0b-08cb-4076-a3b4-5c37bd4f7a90",
   "metadata": {},
   "outputs": [
    {
     "name": "stdout",
     "output_type": "stream",
     "text": [
      "Conversation IDs:\n",
      "- 0SafKm1TNSFzHnyrttXO\n",
      "- sP8xOqEVpPQeiUfuFRkg\n",
      "- bNNDovO2tmnp2iHyNcgw\n",
      "- mQZz22BN0yTnoJPS6Bg5\n",
      "- 8lpU6VSnn4r8OZpy1ORz\n",
      "- iA5vt5ND6y7z2z89NBHt\n",
      "- gaLWRIO2inFXCKK0tGSb\n",
      "- FbbDjS1r8Tr4kRkWRRLE\n",
      "- 1VReoA4HMiuRBuAMsNGj\n",
      "- 0p97NyKwg6MbVSmxecEs\n",
      "- B9VKwet8BECeQhJzwFzG\n",
      "- U8pFsFNtFMFlybYfsOhg\n",
      "- 2bbjxjT4GcQ9kpedsUR9\n"
     ]
    }
   ],
   "source": [
    "from elevenlabs import ElevenLabs\n",
    "\n",
    "client = ElevenLabs(\n",
    "    api_key=\"\",\n",
    ")\n",
    "\n",
    "# Fetch conversations\n",
    "response = client.conversational_ai.get_conversations(\n",
    "    agent_id=\"kxMlrdYidldtEbnZyFAP\",\n",
    ")\n",
    "\n",
    "# Extract and print conversation IDs\n",
    "print(\"Conversation IDs:\")\n",
    "for conversation in response.conversations:\n",
    "    print(f\"- {conversation.conversation_id}\")\n"
   ]
  },
  {
   "cell_type": "code",
   "execution_count": 11,
   "id": "e43187bd-cede-4d30-a3b5-b4f709eb19b6",
   "metadata": {},
   "outputs": [
    {
     "name": "stdout",
     "output_type": "stream",
     "text": [
      "Conversation Transcript:\n",
      "\n",
      "Agent: Hello, little astronaut! Are you ready to blast off on our cosmic adventure?\n",
      "\n",
      "User: Shores, what can I see in space?\n",
      "\n",
      "Agent: Wow, space is full of amazing things! We can see planets, stars, and even sparkling galaxies far, far away. Which planet are you most excited to explore first on our crystal-collecting adventure?\n",
      "\n",
      "\n",
      "User: How about Earth, what can I find on Earth?\n",
      "\n",
      "Agent: Earth is our home planet, and it's full of wonders! We can find big blue oceans, tall green mountains, and sandy deserts. But remember, we need to collect star crystals from all the planets, so let's focus on the other planets for now. Are you ready to...\n",
      "\n"
     ]
    }
   ],
   "source": [
    "from elevenlabs import ElevenLabs\n",
    "\n",
    "client = ElevenLabs(\n",
    "    api_key=\"\",\n",
    ")\n",
    "\n",
    "# Fetch conversation\n",
    "response = client.conversational_ai.get_conversation(\n",
    "    conversation_id=\"0SafKm1TNSFzHnyrttXO\",\n",
    ")\n",
    "\n",
    "# Print transcript in a readable format\n",
    "print(\"Conversation Transcript:\\n\")\n",
    "for entry in response.transcript:\n",
    "    role = \"Agent\" if entry.role == \"agent\" else \"User\"\n",
    "    print(f\"{role}: {entry.message}\\n\")"
   ]
  },
  {
   "cell_type": "code",
   "execution_count": 1,
   "id": "9296e1c6-f54e-4cad-832a-01996cb9ec95",
   "metadata": {
    "scrolled": true
   },
   "outputs": [
    {
     "name": "stdout",
     "output_type": "stream",
     "text": [
      "API Key loaded successfully!\n"
     ]
    }
   ],
   "source": [
    "import os\n",
    "from dotenv import load_dotenv\n",
    "import google.generativeai as genai\n",
    "\n",
    "# Load environment variables from .env file\n",
    "load_dotenv()\n",
    "\n",
    "# Get API key\n",
    "api_key = os.getenv(\"GOOGLE_AI_STUDIO_API_KEY\")\n",
    "\n",
    "# Configure Google AI Studio API\n",
    "genai.configure(api_key=api_key)\n",
    "\n",
    "print(\"API Key loaded successfully!\")  # Just to confirm it's working"
   ]
  },
  {
   "cell_type": "code",
   "execution_count": 8,
   "id": "25a2a548-943d-444c-8e30-8fc221a6bf0f",
   "metadata": {},
   "outputs": [
    {
     "name": "stdout",
     "output_type": "stream",
     "text": [
      "1. **Child's Speech Summary:**\n",
      "   The child uses simple sentences, mainly asking questions about what they can find in space and on Earth. They show curiosity and engagement in exploring space and its contents.\n",
      "\n",
      "2. **Topic Summary:**\n",
      "   The conversation primarily revolves around space exploration, discussing planets, stars, and the wonders of Earth.\n",
      "\n",
      "3. **Positive Highlights:**\n",
      "   a. *Language Development:* The child uses the correct order of words in sentences and demonstrates a basic understanding of concepts like space and Earth, indicating progress in language acquisition. (EYLF Outcome: Children use language to imagine and represent their experiences)\n",
      "   b. *Emerging Interests:* The child's questions about what they can see in space showcase their emerging interest in astronomy and exploration. (EYLF Outcome: Children develop dispositions for learning such as curiosity, cooperation, confidence, creativity, commitment, enthusiasm, persistence, imagination, and reflexivity)\n",
      "\n",
      "4. **Conversation Starters:**\n",
      "   - What do you think astronauts do when they go to space?\n",
      "   - Can you name some of the planets in our solar system?\n",
      "   - What would you like to explore if you could travel anywhere in the universe?\n",
      "\n",
      "5. **Games & Activities:**\n",
      "   - **Space Sensory Bin:** Fill a sensory bin with space-themed items like star-shaped cutouts, astronaut figures, and moon rocks (small pebbles). Encourage imaginative play and exploration.\n",
      "   - **Galaxy Painting:** Use black paper and white or fluorescent paint to create a splatter-art galaxy. Talk about the colors and shapes that the child makes, fostering creativity and language skills.\n"
     ]
    }
   ],
   "source": [
    "def analyze_child_conversation(transcript):\n",
    "    \"\"\"\n",
    "    Uses Google's LLM to analyze a child's conversation with AI characters.\n",
    "    Provides:\n",
    "    1. A summary of the child's speech.\n",
    "    2. A summary of the topic discussed.\n",
    "    3. A positive highlight from the conversation.\n",
    "    4. Conversation starters for parents.\n",
    "    5. Games/activities to further the child's interest.\n",
    "    \"\"\"\n",
    "    prompt = f\"\"\"\n",
    "    You are an expert in early childhood language development, analyzing a conversation transcript\n",
    "    between a child and an AI character named Nora. Your tasks are to:\n",
    "\n",
    "    1. Summarize the child's speech in a few sentences.\n",
    "    2. Summarize the main topics of conversation between Nora and the child.\n",
    "    3. Identify two positive highlights:\n",
    "       a. Focus on the child's use of language (e.g., vocabulary expansion, sentence structure).\n",
    "       b. Note any emerging interests or curiosities the child exhibits.\n",
    "    4. For each positive highlight, link it to the relevant outcome in the Early Years Learning Framework (EYLF) of Australia.\n",
    "    5. Suggest three simple conversation starters parents can use to continue discussing the topic with their child.\n",
    "    6. Provide two engaging activities or games that parents and children can do together to further explore the child's interests.\n",
    "\n",
    "    Ensure the response is clear and supportive, aiding parents in fostering their child's development.\n",
    "\n",
    "    Conversation Transcript:\n",
    "    {transcript}\n",
    "\n",
    "    Format the response as follows:\n",
    "    1. **Child's Speech Summary:** (Brief overview)\n",
    "    2. **Topic Summary:** (Main subjects discussed)\n",
    "    3. **Positive Highlights:**\n",
    "       a. *Language Development:* (Observation) - (EYLF Outcome)\n",
    "       b. *Emerging Interests:* (Observation) - (EYLF Outcome)\n",
    "    4. **Conversation Starters:** (List of 3 questions)\n",
    "    5. **Games & Activities:** (List of 2 suggestions)\n",
    "    \"\"\"\n",
    "\n",
    "    # Use Gemini API to generate the analysis\n",
    "    model = genai.GenerativeModel(model_name=\"gemini-pro\")\n",
    "    response = model.generate_content(prompt)\n",
    "\n",
    "    return response.text  # Ensure the response is properly returned as text\n",
    "\n",
    "# Automatically analyze the retrieved transcript\n",
    "parent_report = analyze_child_conversation(conversation_transcript)\n",
    "print(parent_report)"
   ]
  },
  {
   "cell_type": "code",
   "execution_count": null,
   "id": "9a06da6e-6620-4c90-b009-e57bc949a5be",
   "metadata": {},
   "outputs": [],
   "source": []
  }
 ],
 "metadata": {
  "kernelspec": {
   "display_name": "Python (mas)",
   "language": "python",
   "name": "mas"
  },
  "language_info": {
   "codemirror_mode": {
    "name": "ipython",
    "version": 3
   },
   "file_extension": ".py",
   "mimetype": "text/x-python",
   "name": "python",
   "nbconvert_exporter": "python",
   "pygments_lexer": "ipython3",
   "version": "3.9.6"
  }
 },
 "nbformat": 4,
 "nbformat_minor": 5
}
