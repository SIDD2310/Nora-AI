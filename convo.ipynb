{
 "cells": [
  {
   "cell_type": "code",
   "execution_count": 1,
   "id": "91911459-145f-4276-9184-8d648f4be263",
   "metadata": {},
   "outputs": [
    {
     "data": {
      "text/plain": [
       "GetConversationsPageResponseModel(conversations=[ConversationSummaryResponseModel(agent_id='kxMlrdYidldtEbnZyFAP', agent_name='Nora in Space', conversation_id='sP8xOqEVpPQeiUfuFRkg', start_time_unix_secs=1740204645, call_duration_secs=0, message_count=0, status='done', call_successful='unknown'), ConversationSummaryResponseModel(agent_id='kxMlrdYidldtEbnZyFAP', agent_name='Nora in Space', conversation_id='bNNDovO2tmnp2iHyNcgw', start_time_unix_secs=1740204078, call_duration_secs=0, message_count=0, status='done', call_successful='unknown'), ConversationSummaryResponseModel(agent_id='kxMlrdYidldtEbnZyFAP', agent_name='Nora in Space', conversation_id='mQZz22BN0yTnoJPS6Bg5', start_time_unix_secs=1740204020, call_duration_secs=0, message_count=0, status='done', call_successful='unknown'), ConversationSummaryResponseModel(agent_id='kxMlrdYidldtEbnZyFAP', agent_name='Nora in Space', conversation_id='8lpU6VSnn4r8OZpy1ORz', start_time_unix_secs=1740203877, call_duration_secs=0, message_count=0, status='done', call_successful='unknown'), ConversationSummaryResponseModel(agent_id='kxMlrdYidldtEbnZyFAP', agent_name='Nora in Space', conversation_id='iA5vt5ND6y7z2z89NBHt', start_time_unix_secs=1740203783, call_duration_secs=0, message_count=0, status='done', call_successful='unknown'), ConversationSummaryResponseModel(agent_id='kxMlrdYidldtEbnZyFAP', agent_name='Nora in Space', conversation_id='gaLWRIO2inFXCKK0tGSb', start_time_unix_secs=1740203765, call_duration_secs=0, message_count=0, status='done', call_successful='unknown'), ConversationSummaryResponseModel(agent_id='kxMlrdYidldtEbnZyFAP', agent_name='Nora in Space', conversation_id='FbbDjS1r8Tr4kRkWRRLE', start_time_unix_secs=1740203716, call_duration_secs=0, message_count=0, status='done', call_successful='unknown'), ConversationSummaryResponseModel(agent_id='kxMlrdYidldtEbnZyFAP', agent_name='Nora in Space', conversation_id='1VReoA4HMiuRBuAMsNGj', start_time_unix_secs=1740193038, call_duration_secs=40, message_count=5, status='done', call_successful='success'), ConversationSummaryResponseModel(agent_id='kxMlrdYidldtEbnZyFAP', agent_name='Nora in Space', conversation_id='0p97NyKwg6MbVSmxecEs', start_time_unix_secs=1740192921, call_duration_secs=53, message_count=8, status='done', call_successful='success'), ConversationSummaryResponseModel(agent_id='kxMlrdYidldtEbnZyFAP', agent_name='Nora in Space', conversation_id='B9VKwet8BECeQhJzwFzG', start_time_unix_secs=1740192909, call_duration_secs=9, message_count=1, status='done', call_successful='success'), ConversationSummaryResponseModel(agent_id='kxMlrdYidldtEbnZyFAP', agent_name='Nora in Space', conversation_id='U8pFsFNtFMFlybYfsOhg', start_time_unix_secs=1740192864, call_duration_secs=31, message_count=6, status='done', call_successful='success'), ConversationSummaryResponseModel(agent_id='kxMlrdYidldtEbnZyFAP', agent_name='Nora in Space', conversation_id='2bbjxjT4GcQ9kpedsUR9', start_time_unix_secs=1740192282, call_duration_secs=33, message_count=3, status='done', call_successful='success')], next_cursor=None, has_more=False)"
      ]
     },
     "execution_count": 1,
     "metadata": {},
     "output_type": "execute_result"
    }
   ],
   "source": [
    "from elevenlabs import ElevenLabs\n",
    "\n",
    "client = ElevenLabs(\n",
    "    api_key=\"sk_143b04e3d0dde734ef960263a118662c8f118ffef3e43a6f\",\n",
    ")\n",
    "client.conversational_ai.get_conversations(\n",
    "    agent_id=\"kxMlrdYidldtEbnZyFAP\",\n",
    ")\n"
   ]
  },
  {
   "cell_type": "code",
   "execution_count": 3,
   "id": "d83b4fdd-64b0-4665-8f00-89dd64dd747b",
   "metadata": {},
   "outputs": [
    {
     "data": {
      "text/plain": [
       "GetConversationResponseModel(agent_id='kxMlrdYidldtEbnZyFAP', conversation_id='U8pFsFNtFMFlybYfsOhg', status='done', transcript=[ConversationHistoryTranscriptCommonModel(role='agent', message='Hello, little astronaut! Are you ready to blast off on our cosmic adventure?', tool_calls=None, tool_results=None, feedback=None, time_in_call_secs=0, conversation_turn_metrics=None), ConversationHistoryTranscriptCommonModel(role='user', message='Hi.', tool_calls=None, tool_results=None, feedback=None, time_in_call_secs=8, conversation_turn_metrics=None), ConversationHistoryTranscriptCommonModel(role='agent', message='...', tool_calls=None, tool_results=None, feedback=None, time_in_call_secs=10, conversation_turn_metrics=None), ConversationHistoryTranscriptCommonModel(role='user', message='Where are we going?', tool_calls=None, tool_results=None, feedback=None, time_in_call_secs=8, conversation_turn_metrics=None), ConversationHistoryTranscriptCommonModel(role='agent', message=\"We're going on a super fun space adventure to collect star crystals from all the planets in our solar system! We need to bring them back to our rocket. Are you ready to explore, little astronaut? Which planet should we visit first?\\n\", tool_calls=None, tool_results=None, feedback=None, time_in_call_secs=12, conversation_turn_metrics={'convai_llm_service_ttfb': {'elapsed_time': 0.24360119691118598}, 'convai_llm_service_ttf_sentence': {'elapsed_time': 0.5711930461693555}}), ConversationHistoryTranscriptCommonModel(role='user', message='What are the planets?', tool_calls=None, tool_results=None, feedback=None, time_in_call_secs=28, conversation_turn_metrics=None)], metadata=ConversationHistoryMetadataCommonModel(start_time_unix_secs=1740192864, call_duration_secs=31, cost=106, deletion_settings=ConversationDeletionSettings(deletion_time_unix_secs=1803264895, deleted_logs_at_time_unix_secs=None, deleted_audio_at_time_unix_secs=None, deleted_transcript_at_time_unix_secs=None, delete_transcript_and_pii=True, delete_audio=True), feedback=ConversationHistoryFeedbackCommonModel(overall_score=None, likes=0, dislikes=0), authorization_method='authorization_header', charging=ConversationChargingCommonModel(dev_discount=True), termination_reason=''), analysis=ConversationHistoryAnalysisCommonModel(evaluation_criteria_results={}, data_collection_results={}, call_successful='success', transcript_summary='This conversation is a playful interaction between an agent (likely representing a space-themed educational program or game) and a young user. The agent greets the user enthusiastically as a \"little astronaut\" and introduces a space adventure concept. The user responds briefly, asking where they\\'re going.\\n\\nThe agent explains they\\'re embarking on a mission to collect \"star crystals\" from planets in the solar system. They encourage the user to choose a planet to visit first. The user, showing curiosity, asks about the planets available for exploration.\\n\\nThe conversation sets up an imaginative, educational scenario designed to engage young learners in space-related topics. The agent\\'s tone is enthusiastic and encouraging, while the user\\'s responses are brief but inquisitive, indicating potential interest in the activity.'), conversation_initiation_client_data=ConversationInitiationClientData(conversation_config_override=ConversationConfigClientOverride(agent=AgentConfigOverride(prompt=None, first_message=None, language='en'), tts=TtsConversationalConfigOverride(voice_id=None)), custom_llm_extra_body={}, dynamic_variables={}))"
      ]
     },
     "execution_count": 3,
     "metadata": {},
     "output_type": "execute_result"
    }
   ],
   "source": [
    "from elevenlabs import ElevenLabs\n",
    "\n",
    "client = ElevenLabs(\n",
    "    api_key=\"sk_143b04e3d0dde734ef960263a118662c8f118ffef3e43a6f\",\n",
    ")\n",
    "client.conversational_ai.get_conversation(\n",
    "    conversation_id=\"U8pFsFNtFMFlybYfsOhg\",\n",
    ")\n"
   ]
  },
  {
   "cell_type": "code",
   "execution_count": 4,
   "id": "d0f2cbf6-a70e-4ade-95eb-406516b1484e",
   "metadata": {},
   "outputs": [
    {
     "ename": "TypeError",
     "evalue": "post_agent_avatar() missing 1 required keyword-only argument: 'avatar_file'",
     "output_type": "error",
     "traceback": [
      "\u001b[0;31m---------------------------------------------------------------------------\u001b[0m",
      "\u001b[0;31mTypeError\u001b[0m                                 Traceback (most recent call last)",
      "Cell \u001b[0;32mIn[4], line 6\u001b[0m\n\u001b[1;32m      1\u001b[0m \u001b[38;5;28;01mfrom\u001b[39;00m\u001b[38;5;250m \u001b[39m\u001b[38;5;21;01melevenlabs\u001b[39;00m\u001b[38;5;250m \u001b[39m\u001b[38;5;28;01mimport\u001b[39;00m ElevenLabs\n\u001b[1;32m      3\u001b[0m client \u001b[38;5;241m=\u001b[39m ElevenLabs(\n\u001b[1;32m      4\u001b[0m     api_key\u001b[38;5;241m=\u001b[39m\u001b[38;5;124m\"\u001b[39m\u001b[38;5;124msk_143b04e3d0dde734ef960263a118662c8f118ffef3e43a6f\u001b[39m\u001b[38;5;124m\"\u001b[39m,\n\u001b[1;32m      5\u001b[0m )\n\u001b[0;32m----> 6\u001b[0m \u001b[43mclient\u001b[49m\u001b[38;5;241;43m.\u001b[39;49m\u001b[43mconversational_ai\u001b[49m\u001b[38;5;241;43m.\u001b[39;49m\u001b[43mpost_agent_avatar\u001b[49m\u001b[43m(\u001b[49m\n\u001b[1;32m      7\u001b[0m \u001b[43m    \u001b[49m\u001b[43magent_id\u001b[49m\u001b[38;5;241;43m=\u001b[39;49m\u001b[38;5;124;43m\"\u001b[39;49m\u001b[38;5;124;43mkxMlrdYidldtEbnZyFAP\u001b[39;49m\u001b[38;5;124;43m\"\u001b[39;49m\u001b[43m,\u001b[49m\n\u001b[1;32m      8\u001b[0m \u001b[43m)\u001b[49m\n",
      "\u001b[0;31mTypeError\u001b[0m: post_agent_avatar() missing 1 required keyword-only argument: 'avatar_file'"
     ]
    }
   ],
   "source": [
    "from elevenlabs import ElevenLabs\n",
    "\n",
    "client = ElevenLabs(\n",
    "    api_key=\"sk_143b04e3d0dde734ef960263a118662c8f118ffef3e43a6f\",\n",
    ")\n",
    "client.conversational_ai.post_agent_avatar(\n",
    "    agent_id=\"kxMlrdYidldtEbnZyFAP\",\n",
    ")\n"
   ]
  },
  {
   "cell_type": "code",
   "execution_count": null,
   "id": "14d6511f-078f-48b3-9707-a6bc3ff9e45d",
   "metadata": {},
   "outputs": [],
   "source": []
  }
 ],
 "metadata": {
  "kernelspec": {
   "display_name": "Python (mas)",
   "language": "python",
   "name": "mas"
  },
  "language_info": {
   "codemirror_mode": {
    "name": "ipython",
    "version": 3
   },
   "file_extension": ".py",
   "mimetype": "text/x-python",
   "name": "python",
   "nbconvert_exporter": "python",
   "pygments_lexer": "ipython3",
   "version": "3.9.6"
  }
 },
 "nbformat": 4,
 "nbformat_minor": 5
}
