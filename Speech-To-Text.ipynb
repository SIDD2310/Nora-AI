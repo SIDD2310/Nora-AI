{
 "cells": [
  {
   "cell_type": "code",
   "execution_count": 13,
   "id": "16e6bc2c-74d7-4700-9d92-5e109dccd6f9",
   "metadata": {},
   "outputs": [],
   "source": [
    "import os\n",
    "import openai\n",
    "import sounddevice as sd\n",
    "from scipy.io.wavfile import write\n",
    "import numpy as np\n",
    "import time\n",
    "from dotenv import load_dotenv"
   ]
  },
  {
   "cell_type": "code",
   "execution_count": 3,
   "id": "d17b8e99-0bd3-45cb-820a-4800075946c8",
   "metadata": {},
   "outputs": [],
   "source": [
    "# Load environment variables from .env file\n",
    "load_dotenv()\n",
    "\n",
    "# Set your OpenAI API key from environment variable\n",
    "openai.api_key = os.getenv(\"OPENAI_API_KEY\")\n"
   ]
  },
  {
   "cell_type": "code",
   "execution_count": 4,
   "id": "496f7734-d759-42cc-a006-2e6701f806d4",
   "metadata": {},
   "outputs": [],
   "source": [
    "def record_audio(filename, duration, fs):\n",
    "    \"\"\"\n",
    "    Records audio from the microphone and saves it as a WAV file.\n",
    "\n",
    "    :param filename: Name of the output WAV file\n",
    "    :param duration: Duration of the recording in seconds\n",
    "    :param fs: Sampling frequency\n",
    "    \"\"\"\n",
    "    print(\"Recording...\")\n",
    "    recording = sd.rec(int(duration * fs), samplerate=fs, channels=1, dtype='int16')\n",
    "    sd.wait()  # Wait until recording is finished\n",
    "    write(filename, fs, recording)  # Save as WAV file\n",
    "    print(f\"Recording saved as {filename}\")"
   ]
  },
  {
   "cell_type": "code",
   "execution_count": 9,
   "id": "7ef9624a-042c-4531-b075-7716ce510fc5",
   "metadata": {},
   "outputs": [],
   "source": [
    "import openai\n",
    "\n",
    "def transcribe_audio(filename):\n",
    "    \"\"\"\n",
    "    Transcribes the given audio file using OpenAI's Whisper API (updated method).\n",
    "    \n",
    "    :param filename: Path to the audio file\n",
    "    :return: Transcribed text\n",
    "    \"\"\"\n",
    "    with open(filename, \"rb\") as audio_file:\n",
    "        transcript = openai.audio.transcriptions.create(\n",
    "            model=\"whisper-1\",\n",
    "            file=audio_file\n",
    "        )\n",
    "    return transcript.text"
   ]
  },
  {
   "cell_type": "code",
   "execution_count": 7,
   "id": "021a5a09-c9fe-4b0b-bfb9-8a7ce18dfca5",
   "metadata": {},
   "outputs": [
    {
     "name": "stdout",
     "output_type": "stream",
     "text": [
      "Recording...\n",
      "Recording saved as recorded_audio.wav\n"
     ]
    }
   ],
   "source": [
    "# Parameters\n",
    "duration = 5  # Duration of recording in seconds\n",
    "fs = 44100  # Sampling frequency\n",
    "audio_filename = \"recorded_audio.wav\"\n",
    "\n",
    "# Record audio from the microphone\n",
    "record_audio(audio_filename, duration, fs)"
   ]
  },
  {
   "cell_type": "code",
   "execution_count": 14,
   "id": "1d20a424-121e-45de-912d-cc41d413cddc",
   "metadata": {},
   "outputs": [
    {
     "name": "stdout",
     "output_type": "stream",
     "text": [
      "Transcription Time: 3.12 secs\n",
      "Transcription:\n",
      "Hey, so testing, testing, one, two, three, this is the audio file.\n"
     ]
    }
   ],
   "source": [
    "# Transcribe the recorded audio with timer\n",
    "start_time = time.time()\n",
    "transcription = transcribe_audio(audio_filename)\n",
    "end_time = time.time()\n",
    "\n",
    "time_taken = round(end_time - start_time, 2)\n",
    "print(f\"Transcription Time: {time_taken} secs\")\n",
    "print(\"Transcription:\")\n",
    "print(transcription)"
   ]
  },
  {
   "cell_type": "code",
   "execution_count": null,
   "id": "0332d7e8-5143-494b-b575-3623d749c9c0",
   "metadata": {},
   "outputs": [],
   "source": []
  }
 ],
 "metadata": {
  "kernelspec": {
   "display_name": "Python (mas)",
   "language": "python",
   "name": "mas"
  },
  "language_info": {
   "codemirror_mode": {
    "name": "ipython",
    "version": 3
   },
   "file_extension": ".py",
   "mimetype": "text/x-python",
   "name": "python",
   "nbconvert_exporter": "python",
   "pygments_lexer": "ipython3",
   "version": "3.9.6"
  }
 },
 "nbformat": 4,
 "nbformat_minor": 5
}
